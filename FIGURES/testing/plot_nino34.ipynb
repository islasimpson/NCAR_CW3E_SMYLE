{
 "cells": [
  {
   "cell_type": "code",
   "execution_count": 1,
   "id": "52003301-b14a-400b-958b-52f7bbec6f53",
   "metadata": {},
   "outputs": [
    {
     "data": {
      "text/plain": [
       "<module 'smyleutils.averaging_utils' from '/home/islas/python/NCAR_CW3E_SMYLE/smyleutils/averaging_utils.py'>"
      ]
     },
     "execution_count": 1,
     "metadata": {},
     "output_type": "execute_result"
    }
   ],
   "source": [
    "import xarray as xr\n",
    "import numpy as np\n",
    "import matplotlib.pyplot as plt\n",
    "from math import nan\n",
    "import sys\n",
    "import xesmf as xe\n",
    "\n",
    "from smyleutils import mapplot_utils as mymaps\n",
    "from smyleutils import averaging_utils as avg\n",
    "from smyleutils import bootstrap_utils as boot\n",
    "from smyleutils import histoplot_utils as histo\n",
    "from smyleutils import colorbar_utils as cbars\n",
    "import cartopy.crs as ccrs\n",
    "import importlib\n",
    "importlib.reload(avg)"
   ]
  },
  {
   "cell_type": "code",
   "execution_count": 2,
   "id": "029bf507-e46f-465a-a23e-4b3cc1db26a8",
   "metadata": {},
   "outputs": [],
   "source": [
    "ystart=1979 ; yend=2020"
   ]
  },
  {
   "cell_type": "code",
   "execution_count": 3,
   "id": "6ae58515-846b-44b4-a6fe-c35fc6c4a9d7",
   "metadata": {},
   "outputs": [],
   "source": [
    "basepath=\"/project/cas/islas/python_savs/NCAR_CW3E_SMYLE/DATA_SORT/Uzm/\"\n",
    "uzm_obs = xr.open_dataset(basepath+\"Uzm_ERA5_day_init11.nc\").Uzm.sel(time=slice(\"1970-12-01\",\"1971-02-28\")).mean('time')\n",
    "uzm_l83 = xr.open_dataset(basepath+\"Uzm_BSMYLE-CW3E-L83_day_init11.nc\").Uzm.sel(time=slice(\"1970-12-01\",\"1971-02-28\")).mean('time')\n",
    "uzm_l32 = xr.open_dataset(basepath+\"Uzm_BSMYLE-CW3E_day_init11.nc\").Uzm.sel(time=slice(\"1970-12-01\",\"1971-02-28\")).mean('time')"
   ]
  },
  {
   "cell_type": "code",
   "execution_count": 4,
   "id": "949348bc-b56b-4fad-84bb-e1ff6871753e",
   "metadata": {},
   "outputs": [],
   "source": [
    "basepath=\"/project/cas/islas/python_savs/NCAR_CW3E_SMYLE/DATA_SORT/MJO_OLR/\"\n",
    "mjo_obs = xr.open_dataset(basepath+\"MJOfilteredOLR_ERA5_init11.nc\").std('time').sel(lat=slice(-40,40))\n",
    "mjo_l83 = xr.open_dataset(basepath+\"MJOfilteredOLR_SMYLE_L83_init11.nc\")\n",
    "mjo_l83['init_year'] = np.arange(1970,2020+1,1)\n",
    "mjo_l32 = xr.open_dataset(basepath+\"MJOfilteredOLR_SMYLE_L32_init11.nc\")\n",
    "mjo_l32['init_year'] = np.arange(1970,2020+1,1)"
   ]
  },
  {
   "cell_type": "code",
   "execution_count": 5,
   "id": "c2e46274-7453-4d32-923d-b41f34446341",
   "metadata": {},
   "outputs": [
    {
     "name": "stdout",
     "output_type": "stream",
     "text": [
      "DataArrayWeighted with weights along dimensions: lat\n",
      "DataArrayWeighted with weights along dimensions: lat\n",
      "DataArrayWeighted with weights along dimensions: lat\n"
     ]
    }
   ],
   "source": [
    "# 5S-5N at 50hPa\n",
    "qbo_obs = avg.cosweightlat(uzm_obs, -5, 5)\n",
    "qbo_l83 = avg.cosweightlat(uzm_l83, -5, 5)\n",
    "qbo_l32 = avg.cosweightlat(uzm_l32, -5, 5)\n",
    "\n",
    "qbo_obs = qbo_obs.interp(level=50.)\n",
    "qbo_l83 = qbo_l83.interp(ilev=50.)\n",
    "qbo_l32 = qbo_l32.interp(ilev=50.)"
   ]
  },
  {
   "cell_type": "code",
   "execution_count": 6,
   "id": "7a2dfb9f-bcf2-4740-bd42-8226c1d28e18",
   "metadata": {},
   "outputs": [],
   "source": [
    "basepath=\"/project/cas/islas/python_savs/NCAR_CW3E_SMYLE/DATA_SORT/SST/\"\n",
    "sst_obs = xr.open_dataset(basepath+\"SST_ERSSTv5_mon_init11.nc\").mean('time')\n",
    "sst_l83 = xr.open_dataset(basepath+\"SST_BSMYLE-CW3E-L83_mon_init11.nc\").sel(time=slice(\"1970-12-01\",\"1971-02-28\")).mean('time')-273.15\n",
    "sst_l32 = xr.open_dataset(basepath+\"SST_BSMYLE-CW3E-L32_mon_init11.nc\").sel(time=slice(\"1970-12-01\",\"1971-02-28\")).mean('time')-273.15"
   ]
  },
  {
   "cell_type": "code",
   "execution_count": 7,
   "id": "244c6d59-fb7a-4262-bc2b-ec01c0838195",
   "metadata": {},
   "outputs": [],
   "source": [
    "grid = xr.Dataset({'lat':(['lat'], mjo_obs.lat.values)}, {'lon':(['lon'], mjo_obs.lon.values)})\n",
    "regridder = xe.Regridder(sst_obs, grid, 'bilinear', periodic=True, reuse_weights=False,\n",
    "                         filename='/project/cas/islas/temp/wgt.nc')\n",
    "sst_obs = regridder(sst_obs.sst)\n",
    "\n",
    "sst_obs = sst_obs.sel(lat=slice(-40,40))\n",
    "sst_l83 = sst_l83.sel(lat=slice(-40,40))\n",
    "sst_l32 = sst_l32.sel(lat=slice(-40,40))\n",
    "\n",
    "sst_l83['lon'] = grid.lon ; sst_l83['lat'] = grid.lat\n",
    "sst_l32['lon'] = grid.lon ; sst_l32['lat'] = grid.lat\n",
    "mjo_l83['lon'] = grid.lon ; mjo_l83['lat'] = grid.lat\n",
    "mjo_l32['lon'] = grid.lon ; mjo_l32['lat'] = grid.lat\n",
    "mjo_obs['lon'] = grid.lon ; mjo_obs['lat'] = grid.lat"
   ]
  },
  {
   "cell_type": "code",
   "execution_count": 8,
   "id": "c77a97d9-9a42-4a88-abcf-6c5d77e51e37",
   "metadata": {},
   "outputs": [],
   "source": [
    "qbo_obs = qbo_obs.sel(init_year=slice(ystart,yend))\n",
    "sst_obs = sst_obs.sel(init_year=slice(ystart,yend))\n",
    "mjo_obs = mjo_obs.sel(init_year=slice(ystart,yend))\n",
    "\n",
    "qbo_l83 = qbo_l83.sel(init_year=slice(ystart,yend))\n",
    "sst_l83 = sst_l83.sel(init_year=slice(ystart,yend))\n",
    "mjo_l83 = mjo_l83.sel(init_year=slice(ystart,yend))\n",
    "\n",
    "qbo_l32 = qbo_l32.sel(init_year=slice(ystart,yend))\n",
    "sst_l32 = sst_l32.sel(init_year=slice(ystart,yend))\n",
    "mjo_l32 = mjo_l32.sel(init_year=slice(ystart,yend))"
   ]
  },
  {
   "cell_type": "code",
   "execution_count": 9,
   "id": "678846cb-4d87-4301-91a0-0a5aa2e0e22b",
   "metadata": {},
   "outputs": [],
   "source": [
    "# compositing westerly and easterly QBO\n",
    "# defining the QBO phase based on the anomalies from the climatological average\n",
    "# westerly QBO is where the qbo winds are greater than 0.5 times the interannual standard deviation\n",
    "# easterly QBO is where the qbo winds are less than -0.5 times the interannual standard deviation\n",
    "def composite_w_e(qbo, sst, mjo, timevar='init_year'):\n",
    "    qbo = qbo - qbo.mean(timevar)\n",
    "    sst = sst - sst.mean(timevar)\n",
    "    mjo = mjo - mjo.mean(timevar)\n",
    "    \n",
    "    qbo_w = qbo.where(qbo > 0.5*qbo.std(timevar), nan).mean(timevar, skipna=True).rename('u_w')\n",
    "    qbo_e = qbo.where(qbo < -0.5*qbo.std(timevar), nan).mean(timevar, skipna=True).rename('u_e')\n",
    "    sst_w = sst.where(qbo > 0.5*qbo.std(timevar), nan).mean(timevar, skipna=True).rename('sst_w')\n",
    "    sst_e = sst.where(qbo < -0.5*qbo.std(timevar), nan).mean(timevar, skipna=True).rename('sst_e')\n",
    "    mjo_w = mjo.where(qbo > 0.5*qbo.std(timevar), nan).mean(timevar, skipna=True).rename('mjo_w')\n",
    "    mjo_e = mjo.where(qbo < -0.5*qbo.std(timevar), nan).mean(timevar, skipna=True).rename('mjo_e')\n",
    "    \n",
    "    datout = xr.merge([qbo_w, qbo_e, sst_w, sst_e, mjo_w, mjo_e])\n",
    "    return datout"
   ]
  },
  {
   "cell_type": "code",
   "execution_count": 10,
   "id": "979511d5-d94c-4d8d-9c75-17bb2e9c5716",
   "metadata": {},
   "outputs": [],
   "source": [
    "#---Compositing based on the observed QBO\n",
    "obs_comp = composite_w_e(qbo_obs, sst_obs, mjo_obs.MJO_OLR)\n",
    "l83_comp = composite_w_e(qbo_obs, sst_l83.TS, mjo_l83.MJO_OLR)\n",
    "l32_comp = composite_w_e(qbo_obs, sst_l32.TS, mjo_l32.MJO_OLR)"
   ]
  },
  {
   "cell_type": "code",
   "execution_count": 11,
   "id": "da2bb557-9b3d-47d5-a180-f59a905738f7",
   "metadata": {},
   "outputs": [],
   "source": [
    "nino34_l83_sst_w = avg.cosweightlonlat(l83_comp.sst_w, 190, 240, -5, 5)\n",
    "nino34_l83_sst_e = avg.cosweightlonlat(l83_comp.sst_e, 190, 240, -5, 5)\n",
    "nino34_l32_sst_w = avg.cosweightlonlat(l32_comp.sst_w, 190, 240, -5, 5)\n",
    "nino34_l32_sst_e = avg.cosweightlonlat(l32_comp.sst_e, 190, 240, -5, 5)"
   ]
  },
  {
   "cell_type": "code",
   "execution_count": 12,
   "id": "270acaea-ef8e-410d-9cc7-214c043e3204",
   "metadata": {},
   "outputs": [
    {
     "data": {
      "text/plain": [
       "[<matplotlib.lines.Line2D at 0x7f0c6c711120>]"
      ]
     },
     "execution_count": 12,
     "metadata": {},
     "output_type": "execute_result"
    },
    {
     "data": {
      "image/png": "[encoded data removed]",
      "text/plain": [
       "<Figure size 1152x1152 with 1 Axes>"
      ]
     },
     "metadata": {
      "needs_background": "light"
     },
     "output_type": "display_data"
    }
   ],
   "source": [
    "fig = plt.figure(figsize=(16,16))\n",
    "\n",
    "ax = fig.add_axes([0.05,0.7,0.4,0.4])\n",
    "\n",
    "ax.plot(np.arange(0,nino34_l83_sst_w.M.size,1)*0 + 1, nino34_l83_sst_w, \"o\", color='red')\n",
    "ax.plot(np.arange(0,nino34_l83_sst_e.M.size,1)*0 + 2, nino34_l83_sst_e, \"o\", color='blue')\n",
    "ax.plot(np.arange(0,nino34_l32_sst_w.M.size,1)*0 + 3, nino34_l32_sst_w, \"o\", color='red')\n",
    "ax.plot(np.arange(0,nino34_l32_sst_e.M.size,1)*0 + 4, nino34_l32_sst_e, \"o\", color='blue')"
   ]
  },
  {
   "cell_type": "code",
   "execution_count": 13,
   "id": "afe95e91-a116-4a21-aa6d-fbb8de229c48",
   "metadata": {},
   "outputs": [],
   "source": [
    "mjo_obs_region = avg.cosweightlonlat(mjo_obs.MJO_OLR, 50, 170, -20, 5)\n",
    "mjo_l83_region = avg.cosweightlonlat(mjo_l83.MJO_OLR, 50, 170, -20, 5)\n",
    "mjo_l32_region = avg.cosweightlonlat(mjo_l32.MJO_OLR, 50, 170, -20, 5)\n",
    "\n",
    "sst_obs_region = avg.cosweightlonlat(sst_obs, 190, 240, -5, 5)\n",
    "sst_l83_region = avg.cosweightlonlat(sst_l83, 190, 240, -5, 5)\n",
    "sst_l32_region = avg.cosweightlonlat(sst_l32, 190, 240, -5, 5)"
   ]
  },
  {
   "cell_type": "code",
   "execution_count": null,
   "id": "28dd340d-e586-4870-99eb-b1bf64a68ea1",
   "metadata": {},
   "outputs": [],
   "source": [
    "# Bootstrapping members for each year and stringing together.\n",
    "boot_mjo_l83 = [] ; boot_sst_l83 = [] ; boot_qbo_l83 = []\n",
    "boot_mjo_l32 = [] ; boot_sst_l32 = [] ; boot_qbo_l32 = []\n",
    "for iyear in np.arange(0,mjo_obs.init_year.size,1):\n",
    "    boot_mjo = boot.bootgen(mjo_l83_region.isel(init_year=iyear), nsamples=1, seed=iyear).isel(isample=0)\n",
    "    boot_sst = boot.bootgen(sst_l83_region.TS.isel(init_year=iyear), nsamples=1, seed=iyear).isel(isample=0)\n",
    "    boot_qbo = boot.bootgen(qbo_l83.isel(init_year=iyear), nsamples=1, seed=iyear).isel(isample=0)\n",
    "    boot_mjo_l83.append(boot_mjo)\n",
    "    boot_sst_l83.append(boot_sst)\n",
    "    boot_qbo_l83.append(boot_qbo)\n",
    "    \n",
    "    boot_mjo = boot.bootgen(mjo_l32_region.isel(init_year=iyear), nsamples=1, seed=iyear).isel(isample=0)\n",
    "    boot_sst = boot.bootgen(sst_l32_region.TS.isel(init_year=iyear), nsamples=1, seed=iyear).isel(isample=0)\n",
    "    boot_qbo = boot.bootgen(qbo_l32.isel(init_year=iyear), nsamples=1, seed=iyear).isel(isample=0)\n",
    "    boot_mjo_l32.append(boot_mjo)\n",
    "    boot_sst_l32.append(boot_sst)\n",
    "    boot_qbo_l32.append(boot_qbo)     \n",
    "    \n",
    "boot_mjo_l83 = xr.concat(boot_mjo_l83, dim=mjo_obs.init_year)\n",
    "boot_sst_l83 = xr.concat(boot_sst_l83, dim=mjo_obs.init_year)\n",
    "boot_qbo_l83 = xr.concat(boot_qbo_l83, dim=mjo_obs.init_year)\n",
    "\n",
    "boot_mjo_l32 = xr.concat(boot_mjo_l32, dim=mjo_obs.init_year)\n",
    "boot_sst_l32 = xr.concat(boot_sst_l32, dim=mjo_obs.init_year)\n",
    "boot_qbo_l32 = xr.concat(boot_qbo_l32, dim=mjo_obs.init_year)"
   ]
  },
  {
   "cell_type": "code",
   "execution_count": 29,
   "id": "13198471-e164-4e60-a5e9-0324bc6e9877",
   "metadata": {},
   "outputs": [],
   "source": [
    "boot_qbo_obs = xr.DataArray(np.zeros([boot_qbo_l83.init_year.size, boot_qbo_l83.iboot.size]), dims=['init_year','iboot'], \n",
    "                            coords=[boot_qbo_l83.init_year, boot_qbo_l83.iboot], name='boot_qbo_obs')\n",
    "boot_qbo_obs[:,:] = qbo_obs"
   ]
  },
  {
   "cell_type": "code",
   "execution_count": 32,
   "id": "963d1e80-617f-40b3-9d7e-99a0e153e108",
   "metadata": {},
   "outputs": [],
   "source": [
    "# composites for regions\n",
    "bootcomp_l83 = composite_w_e(boot_qbo_obs, boot_sst_l83, boot_mjo_l83)\n",
    "bootcomp_l32 = composite_w_e(boot_qbo_obs, boot_sst_l32, boot_mjo_l32)\n",
    "compregions_obs = composite_w_e(qbo_obs, sst_obs_region, mjo_obs_region)\n",
    "compregions_l83 = composite_w_e(qbo_obs, sst_l83_region.TS, mjo_l83_region)\n",
    "compregions_l32 = composite_w_e(qbo_obs, sst_l32_region.TS, mjo_l32_region)"
   ]
  },
  {
   "cell_type": "code",
   "execution_count": null,
   "id": "26a797b9-b620-4045-a7d2-117037c23d1b",
   "metadata": {},
   "outputs": [],
   "source": []
  }
 ],
 "metadata": {
  "kernelspec": {
   "display_name": "Python [conda env:islaenv]",
   "language": "python",
   "name": "conda-env-islaenv-py"
  },
  "language_info": {
   "codemirror_mode": {
    "name": "ipython",
    "version": 3
   },
   "file_extension": ".py",
   "mimetype": "text/x-python",
   "name": "python",
   "nbconvert_exporter": "python",
   "pygments_lexer": "ipython3",
   "version": "3.10.13"
  }
 },
 "nbformat": 4,
 "nbformat_minor": 5
}
