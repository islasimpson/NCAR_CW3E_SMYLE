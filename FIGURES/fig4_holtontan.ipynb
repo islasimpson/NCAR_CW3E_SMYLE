{
 "cells": [
  {
   "cell_type": "code",
   "execution_count": 1,
   "id": "64abab85-5646-4fb8-b787-ee7778d55980",
   "metadata": {},
   "outputs": [],
   "source": [
    "import xarray as xr\n",
    "import numpy as np\n",
    "import matplotlib.pyplot as plt\n",
    "from math import nan\n",
    "from smyleutils import averaging_utils as avg\n",
    "from smyleutils import histoplot_utils as histo\n",
    "from smyleutils import bootstrap_utils as boot\n",
    "import sys"
   ]
  },
  {
   "cell_type": "code",
   "execution_count": 12,
   "id": "17438718-81ab-4b3e-8bfe-67cf44404dfb",
   "metadata": {},
   "outputs": [],
   "source": [
    "plotpath=\"/project/cas/islas/python_plots/NCAR_CW3E_SMYLE/FIGURES/\""
   ]
  },
  {
   "cell_type": "code",
   "execution_count": 2,
   "id": "9d799f7d-195e-4032-9b63-8b72607e0a13",
   "metadata": {},
   "outputs": [],
   "source": [
    "basepath=\"/project/cas/islas/python_savs/NCAR_CW3E_SMYLE/DATA_SORT/Uzm/\"\n",
    "\n",
    "high_nov=xr.open_dataset(basepath+'Uzm_BSMYLE-CW3E-L83_day_init11.nc').Uzm\n",
    "low_nov=xr.open_dataset(basepath+'Uzm_BSMYLE-CW3E_day_init11.nc').Uzm ; low_nov['lat'] = high_nov.lat\n",
    "era5_nov=xr.open_dataset(basepath+'Uzm_ERA5_day_init11.nc').Uzm ; era5_nov['lat'] = high_nov.lat"
   ]
  },
  {
   "cell_type": "markdown",
   "id": "43bd5dc8-0b9a-47c4-aec4-4e2614a1c4c8",
   "metadata": {},
   "source": [
    "### Grab out the January's"
   ]
  },
  {
   "cell_type": "code",
   "execution_count": 3,
   "id": "c064edf7-c947-4b3d-a6df-cec8aeba3e34",
   "metadata": {},
   "outputs": [],
   "source": [
    "high_jan = high_nov.sel(time=slice(\"1971-01-01\",\"1971-01-31\")).mean('time')\n",
    "low_jan = low_nov.sel(time=slice(\"1971-01-01\",\"1971-01-31\")).mean('time')\n",
    "era5_jan = era5_nov.sel(time=slice(\"1971-01-01\",\"1971-01-31\")).mean('time')"
   ]
  },
  {
   "cell_type": "code",
   "execution_count": 4,
   "id": "34343f2f-b61f-42e5-a9af-91509324f98f",
   "metadata": {},
   "outputs": [],
   "source": [
    "era5_jan_50 = era5_jan.sel(level=50)\n",
    "high_jan_50 = high_jan.interp(ilev=50)\n",
    "low_jan_50 = low_jan.interp(ilev=50)\n",
    "\n",
    "era5_jan_10 = era5_jan.sel(level=10)\n",
    "high_jan_10 = high_jan.interp(ilev=10)\n",
    "low_jan_10 = low_jan.interp(ilev=10)"
   ]
  },
  {
   "cell_type": "code",
   "execution_count": 5,
   "id": "1ef32318-ee4d-4971-a555-aeac51ed941e",
   "metadata": {},
   "outputs": [
    {
     "name": "stdout",
     "output_type": "stream",
     "text": [
      "DataArrayWeighted with weights along dimensions: lat\n",
      "DataArrayWeighted with weights along dimensions: lat\n",
      "DataArrayWeighted with weights along dimensions: lat\n"
     ]
    }
   ],
   "source": [
    "era5_jan_50_tr = avg.cosweightlat(era5_jan_50, -5,5)\n",
    "high_jan_50_tr = avg.cosweightlat(high_jan_50,-5,5)\n",
    "low_jan_50_tr = avg.cosweightlat(low_jan_50,-5,5)\n",
    "\n",
    "era5_jan_10_60 = era5_jan_10.interp(lat=60)\n",
    "high_jan_10_60 = high_jan_10.interp(lat=60)\n",
    "low_jan_10_60 = low_jan_10.interp(lat=60)"
   ]
  },
  {
   "cell_type": "code",
   "execution_count": 41,
   "id": "e1b00c00-aaf7-42b6-b066-2b0ad290086b",
   "metadata": {},
   "outputs": [],
   "source": [
    "era5_cor = xr.corr(era5_jan_50_tr, era5_jan_10_60)\n",
    "high_cor = xr.corr(high_jan_50_tr.mean('M'), high_jan_10_60.mean('M'))\n",
    "low_cor = xr.corr(low_jan_50_tr.mean('M'), low_jan_10_60.mean('M'))"
   ]
  },
  {
   "cell_type": "code",
   "execution_count": null,
   "id": "a72b01c4-aa12-4118-a430-852d5271b909",
   "metadata": {},
   "outputs": [],
   "source": [
    "boot_tr_high=[] ; boot_pv_high=[]\n",
    "boot_tr_low=[] ; boot_pv_low=[]\n",
    "\n",
    "for iyear in np.arange(0,high_jan_50_tr.init_year.size,1):\n",
    "    boot_tr = boot.bootgen(high_jan_50_tr.isel(init_year=iyear), nsamples=1, seed=iyear).isel(isample=0)\n",
    "    boot_pv = boot.bootgen(high_jan_10_60.isel(init_year=iyear), nsamples=1, seed=iyear).isel(isample=0)\n",
    "    boot_tr_high.append(boot_tr)\n",
    "    boot_pv_high.append(boot_pv)\n",
    "    \n",
    "    boot_tr = boot.bootgen(low_jan_50_tr.isel(init_year=iyear), nsamples=1, seed=iyear).isel(isample=0)\n",
    "    boot_pv = boot.bootgen(low_jan_10_60.isel(init_year=iyear), nsamples=1, seed=iyear).isel(isample=0)\n",
    "    boot_tr_low.append(boot_tr)\n",
    "    boot_pv_low.append(boot_pv)\n",
    "    \n",
    "boot_tr_high = xr.concat(boot_tr_high, dim=high_jan_50_tr.init_year)\n",
    "boot_pv_high = xr.concat(boot_pv_high, dim=high_jan_50_tr.init_year)\n",
    "boot_tr_low = xr.concat(boot_tr_low, dim=low_jan_50_tr.init_year)\n",
    "boot_pv_low = xr.concat(boot_pv_low, dim=low_jan_50_tr.init_year)"
   ]
  },
  {
   "cell_type": "code",
   "execution_count": 8,
   "id": "3d762ac2-a244-4000-a53b-158b3a8432ff",
   "metadata": {},
   "outputs": [],
   "source": [
    "boot_cor_high = xr.corr(boot_tr_high, boot_pv_high, dim='init_year')\n",
    "boot_cor_low = xr.corr(boot_tr_low, boot_pv_low, dim='init_year')"
   ]
  },
  {
   "cell_type": "code",
   "execution_count": 21,
   "id": "5d9bb12d-6cf0-4eb7-9f0d-14755da5ae87",
   "metadata": {},
   "outputs": [],
   "source": [
    "min95_boot_cor_high = boot_cor_high.quantile(0.025) ; max95_boot_cor_high = boot_cor_high.quantile(0.975)\n",
    "min95_boot_cor_low = boot_cor_low.quantile(0.025) ; max95_boot_cor_low = boot_cor_low.quantile(0.975)"
   ]
  },
  {
   "cell_type": "code",
   "execution_count": 35,
   "id": "d44fdc52-3450-46bd-9e85-512e23e6d1a3",
   "metadata": {},
   "outputs": [],
   "source": [
    "p_l83 = ((boot_cor_high.where(boot_cor_high > era5_cor, drop=True).sum()/ boot_cor_high.size)*100.).values\n",
    "p_l32 = ((boot_cor_low.where(boot_cor_low > era5_cor, drop=True).sum()/ boot_cor_low.size)*100.).values"
   ]
  },
  {
   "cell_type": "code",
   "execution_count": 36,
   "id": "ff1c5c08-5287-426a-ba20-a9da1a60b18a",
   "metadata": {},
   "outputs": [
    {
     "name": "stdout",
     "output_type": "stream",
     "text": [
      "0.0\n"
     ]
    }
   ],
   "source": [
    "print(p_l32)"
   ]
  },
  {
   "cell_type": "code",
   "execution_count": 42,
   "id": "3294a0da-79e3-4200-800a-999b04dfbd11",
   "metadata": {},
   "outputs": [
    {
     "data": {
      "image/png": "[encoded data removed]",
      "text/plain": [
       "<Figure size 1152x1152 with 1 Axes>"
      ]
     },
     "metadata": {
      "needs_background": "light"
     },
     "output_type": "display_data"
    }
   ],
   "source": [
    "fig = plt.figure(figsize=(16,16))\n",
    "\n",
    "ax = fig.add_axes([0.05,0.7,0.2,0.3])\n",
    "ax.set_xlim([0,3])\n",
    "ax.set_xticks([1,2])\n",
    "ax.set_xticklabels(['L83','L32'], rotation=60, ha=\"right\", fontsize=16, rotation_mode=\"anchor\")\n",
    "ax.set_yticks([-0.2,-0.1,0,0.1,0.2,0.3,0.4,0.5])\n",
    "ax.set_yticklabels(['-0.2','-0.1','0.0','0.1','0.2','0.3','0.4','0.5'], fontsize=14)\n",
    "ax.set_ylabel('Correlation', fontsize=14)\n",
    "ax.set_ylim(-0.24,0.55)\n",
    "ax.set_title('Cor(U$_{50hPa,5S-5N}$,U$_{10hPa, 60N}$), Jan', fontsize=16)\n",
    "\n",
    "#ax = histo.oplotbar(ax, 1, era5_cor, color='black')\n",
    "\n",
    "ax.plot([0,3],[era5_cor, era5_cor], color='black', linewidth=3, linestyle='dashed')\n",
    "ax.plot([1,1],[min95_boot_cor_high, max95_boot_cor_high], color='red', linewidth=3)\n",
    "ax.plot([0.9,1.1],[min95_boot_cor_high, min95_boot_cor_high], color='red', linewidth=3)\n",
    "ax.plot([0.9,1.1],[max95_boot_cor_high, max95_boot_cor_high], color='red', linewidth=3)\n",
    "ax.plot(1,high_cor,\"o\", markerfacecolor='red', markeredgecolor='black', markersize=10)\n",
    "\n",
    "\n",
    "ax.plot([2,2],[min95_boot_cor_low, max95_boot_cor_low], color='royalblue', linewidth=3)\n",
    "ax.plot([1.9,2.1],[min95_boot_cor_low, min95_boot_cor_low], color='royalblue', linewidth=3)\n",
    "ax.plot([1.9,2.1],[max95_boot_cor_low, max95_boot_cor_low], color='royalblue', linewidth=3)\n",
    "ax.plot(2,low_cor,\"o\", markerfacecolor='royalblue', markeredgecolor='black', markersize=10)\n",
    "\n",
    "ax.text(2.9,0.515,'ERA5', fontsize=14, color='black', ha='right', va='center')\n",
    "\n",
    "fig.savefig(plotpath+'fig4_holtontan.png', bbox_inches='tight', facecolor='white')"
   ]
  },
  {
   "cell_type": "code",
   "execution_count": 14,
   "id": "1d9573d7-996a-48c4-aea1-76c71a863c2e",
   "metadata": {},
   "outputs": [
    {
     "name": "stdout",
     "output_type": "stream",
     "text": [
      "<xarray.DataArray 'Uzm' ()>\n",
      "array(0.49290838)\n",
      "Coordinates:\n",
      "    zlon     float64 0.0\n",
      "    lat      int64 60\n"
     ]
    }
   ],
   "source": [
    "print(era5_cor)"
   ]
  },
  {
   "cell_type": "code",
   "execution_count": null,
   "id": "3694283a-f989-4096-99f5-fc09d2b6985f",
   "metadata": {},
   "outputs": [],
   "source": []
  }
 ],
 "metadata": {
  "kernelspec": {
   "display_name": "Python [conda env:islaenv]",
   "language": "python",
   "name": "conda-env-islaenv-py"
  },
  "language_info": {
   "codemirror_mode": {
    "name": "ipython",
    "version": 3
   },
   "file_extension": ".py",
   "mimetype": "text/x-python",
   "name": "python",
   "nbconvert_exporter": "python",
   "pygments_lexer": "ipython3",
   "version": "3.10.13"
  }
 },
 "nbformat": 4,
 "nbformat_minor": 5
}
