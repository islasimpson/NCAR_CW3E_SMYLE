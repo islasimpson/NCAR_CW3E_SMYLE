{
 "cells": [
  {
   "cell_type": "code",
   "execution_count": 1,
   "id": "b7bbc808-e64c-4954-9e5a-be9a86ecafae",
   "metadata": {},
   "outputs": [
    {
     "data": {
      "text/plain": [
       "<dask.config.set at 0x2b4700f4d950>"
      ]
     },
     "execution_count": 1,
     "metadata": {},
     "output_type": "execute_result"
    }
   ],
   "source": [
    "import xarray as xr\n",
    "import numpy as np\n",
    "import matplotlib.pyplot as plt\n",
    "from math import nan\n",
    "import glob\n",
    "import dask\n",
    "import datetime\n",
    "from dateutil.relativedelta import relativedelta\n",
    "from functools import partial\n",
    "import pandas as pd\n",
    "\n",
    "dask.config.set(**{'array.slicing.split_large_chunks': True})"
   ]
  },
  {
   "cell_type": "markdown",
   "id": "d92529f2-4bc9-42c2-a459-04b4a58f37a0",
   "metadata": {},
   "source": [
    "### Set up basic info"
   ]
  },
  {
   "cell_type": "code",
   "execution_count": 2,
   "id": "652eef9c-b505-4259-987a-889fb6895374",
   "metadata": {},
   "outputs": [],
   "source": [
    "ystart = 1970 # start year of hindcasts \n",
    "yend = 2020 # end year of hindcasts\n",
    "nyears = yend - ystart + 1\n",
    "initmon=9\n",
    "initmonstr = str(initmon).zfill(2)\n",
    "nmems = 20 # the number of hindcast members\n",
    "memstr = [str(i).zfill(3) for i in np.arange(1,nmems+1,1)] # generating member strings\n",
    "topdir = \"/glade/campaign/cesm/development/espwg/SMYLE-CW3E/timeseries/daily/Uzm/\"\n",
    "expname = \"b.e21.BSMYLE-CW3E\"\n",
    "outpath=\"/glade/campaign/cgd/cas/islas/python/smyle_cw3e/DATA_SORT/outputzm/\""
   ]
  },
  {
   "cell_type": "markdown",
   "id": "2fdda132-129e-44d4-8c3f-f162923cd5ff",
   "metadata": {},
   "source": [
    "### Set up the dask cluster"
   ]
  },
  {
   "cell_type": "code",
   "execution_count": 3,
   "id": "b8396ed2-28b2-4355-a1dd-e1fda40c7377",
   "metadata": {},
   "outputs": [
    {
     "name": "stderr",
     "output_type": "stream",
     "text": [
      "/glade/u/home/islas/miniconda3/envs/islaenv/lib/python3.7/site-packages/distributed/node.py:182: UserWarning: Port 8787 is already in use.\n",
      "Perhaps you already have a cluster running?\n",
      "Hosting the HTTP server on port 46085 instead\n",
      "  f\"Port {expected} is already in use.\\n\"\n"
     ]
    }
   ],
   "source": [
    "from dask_jobqueue import PBSCluster\n",
    "from dask.distributed import Client\n",
    "\n",
    "cluster = PBSCluster(\n",
    "    cores = 1,\n",
    "    memory = '10GB',\n",
    "    processes = 1,\n",
    "    queue = 'casper',\n",
    "    local_directory='$TMPDIR',\n",
    "    resource_spec='select=1:ncpus=1:mem=10GB',\n",
    "    project='P04010022',\n",
    "    walltime='03:00:00',\n",
    "    interface='ib0')\n",
    "\n",
    "# scale up\n",
    "cluster.scale(20)\n",
    "\n",
    "# change your urls to the dask dashboard so that you can see it\n",
    "dask.config.set({'distributed.dashboard.link':'https://jupyterhub.hpc.ucar.edu/stable/user/{USER}/proxy/{port}/status'})\n",
    "\n",
    "# Setup your client\n",
    "client = Client(cluster)"
   ]
  },
  {
   "cell_type": "code",
   "execution_count": 4,
   "id": "e6de57ad-4e0a-4d40-b586-525e665b6174",
   "metadata": {},
   "outputs": [
    {
     "data": {
      "text/html": [
       "<div class=\"jp-RenderedHTMLCommon jp-RenderedHTML jp-mod-trusted jp-OutputArea-output\">\n",
       "    <div style=\"width: 24px; height: 24px; background-color: #e1e1e1; border: 3px solid #9D9D9D; border-radius: 5px; position: absolute;\">\n",
       "    </div>\n",
       "    <div style=\"margin-left: 48px;\">\n",
       "        <h3 style=\"margin-bottom: 0px; margin-top: 0px;\">PBSCluster</h3>\n",
       "        <p style=\"color: #9D9D9D; margin-bottom: 0px;\">ad460184</p>\n",
       "        <table style=\"width: 100%; text-align: left;\">\n",
       "            <tr>\n",
       "                <td style=\"text-align: left;\">\n",
       "                    <strong>Dashboard:</strong> <a href=\"https://jupyterhub.hpc.ucar.edu/stable/user/islas/proxy/46085/status\" target=\"_blank\">https://jupyterhub.hpc.ucar.edu/stable/user/islas/proxy/46085/status</a>\n",
       "                </td>\n",
       "                <td style=\"text-align: left;\">\n",
       "                    <strong>Workers:</strong> 0\n",
       "                </td>\n",
       "            </tr>\n",
       "            <tr>\n",
       "                <td style=\"text-align: left;\">\n",
       "                    <strong>Total threads:</strong> 0\n",
       "                </td>\n",
       "                <td style=\"text-align: left;\">\n",
       "                    <strong>Total memory:</strong> 0 B\n",
       "                </td>\n",
       "            </tr>\n",
       "            \n",
       "        </table>\n",
       "\n",
       "        <details>\n",
       "            <summary style=\"margin-bottom: 20px;\">\n",
       "                <h3 style=\"display: inline;\">Scheduler Info</h3>\n",
       "            </summary>\n",
       "\n",
       "            <div style=\"\">\n",
       "    <div>\n",
       "        <div style=\"width: 24px; height: 24px; background-color: #FFF7E5; border: 3px solid #FF6132; border-radius: 5px; position: absolute;\"> </div>\n",
       "        <div style=\"margin-left: 48px;\">\n",
       "            <h3 style=\"margin-bottom: 0px;\">Scheduler</h3>\n",
       "            <p style=\"color: #9D9D9D; margin-bottom: 0px;\">Scheduler-c65d3532-11f3-4630-8e00-1b2b0d241abb</p>\n",
       "            <table style=\"width: 100%; text-align: left;\">\n",
       "                <tr>\n",
       "                    <td style=\"text-align: left;\">\n",
       "                        <strong>Comm:</strong> tcp://10.12.206.54:40019\n",
       "                    </td>\n",
       "                    <td style=\"text-align: left;\">\n",
       "                        <strong>Workers:</strong> 0\n",
       "                    </td>\n",
       "                </tr>\n",
       "                <tr>\n",
       "                    <td style=\"text-align: left;\">\n",
       "                        <strong>Dashboard:</strong> <a href=\"https://jupyterhub.hpc.ucar.edu/stable/user/islas/proxy/46085/status\" target=\"_blank\">https://jupyterhub.hpc.ucar.edu/stable/user/islas/proxy/46085/status</a>\n",
       "                    </td>\n",
       "                    <td style=\"text-align: left;\">\n",
       "                        <strong>Total threads:</strong> 0\n",
       "                    </td>\n",
       "                </tr>\n",
       "                <tr>\n",
       "                    <td style=\"text-align: left;\">\n",
       "                        <strong>Started:</strong> Just now\n",
       "                    </td>\n",
       "                    <td style=\"text-align: left;\">\n",
       "                        <strong>Total memory:</strong> 0 B\n",
       "                    </td>\n",
       "                </tr>\n",
       "            </table>\n",
       "        </div>\n",
       "    </div>\n",
       "\n",
       "    <details style=\"margin-left: 48px;\">\n",
       "        <summary style=\"margin-bottom: 20px;\">\n",
       "            <h3 style=\"display: inline;\">Workers</h3>\n",
       "        </summary>\n",
       "\n",
       "        \n",
       "\n",
       "    </details>\n",
       "</div>\n",
       "\n",
       "        </details>\n",
       "    </div>\n",
       "</div>"
      ],
      "text/plain": [
       "PBSCluster(ad460184, 'tcp://10.12.206.54:40019', workers=0, threads=0, memory=0 B)"
      ]
     },
     "metadata": {},
     "output_type": "display_data"
    }
   ],
   "source": [
    "cluster"
   ]
  },
  {
   "cell_type": "markdown",
   "id": "edfcaacc-84f4-41a9-9b05-e5b6f9e97b6b",
   "metadata": {},
   "source": [
    "### Set up the file list"
   ]
  },
  {
   "cell_type": "code",
   "execution_count": 5,
   "id": "83f035cd-5256-4567-99a7-2e8a3704f6b0",
   "metadata": {},
   "outputs": [],
   "source": [
    "files = []\n",
    "for iyear in np.arange(ystart,yend+1,1):\n",
    "    filest = [glob.glob(topdir+expname+\"*.\"+imem+\".cam.h1.Uzm.\"+str(iyear)+initmonstr+\"01-*.nc\")[0] for imem in memstr]\n",
    "    files.append(filest)"
   ]
  },
  {
   "cell_type": "markdown",
   "id": "53e1f4e1-9bc5-4b63-97d6-e2c5fd216974",
   "metadata": {},
   "source": [
    "### Set up pre-processor"
   ]
  },
  {
   "cell_type": "code",
   "execution_count": 6,
   "id": "f338aac0-639e-438d-9a27-e6e5c7846d96",
   "metadata": {},
   "outputs": [],
   "source": [
    "# pre-processor to ensure all initialization dates have the same time axis\n",
    "def preprocessor(ds):\n",
    "    # sort out the times so that each member has the same time axis\n",
    "    timebndavg = np.array(ds.time_bnds,\n",
    "                         dtype = 'datetime64[s]').view('i8').mean(axis=1).astype('datetime64[s]')\n",
    "    ds['time'] = timebndavg\n",
    "    ds = ds.where( ds.time.dt.hour == 12, drop=True)\n",
    "    \n",
    "    datestart=pd.to_datetime(\"1970-\"+str(ds.isel(time=0).time.dt.month.values).zfill(2)+\"-\"+str(ds.isel(time=0).time.dt.day.values).zfill(2)+\n",
    "                       \"-\"+str(ds.isel(time=0).time.dt.hour.values), format=\"%Y-%m-%d-%H\")\n",
    "    time = [ datestart + relativedelta(days=int(i)) for i in np.arange(0,ds.time.size,1) ]\n",
    "    ds['time'] = time\n",
    "    ds = ds.isel(zlon=0)\n",
    "    return ds"
   ]
  },
  {
   "cell_type": "code",
   "execution_count": 7,
   "id": "b255febd-ca9a-4b69-96ef-7d07dee168e6",
   "metadata": {},
   "outputs": [],
   "source": [
    "dat = xr.open_mfdataset(files, combine='nested', concat_dim=['init_year','M'],\n",
    "                        parallel=True, data_vars=['Uzm'], coords='minimal', compat='override', preprocess=partial(preprocessor))\n",
    "dat['init_year'] = np.arange(ystart,yend+1,1)\n",
    "dat = dat.Uzm\n",
    "dat.load().to_netcdf(outpath+\"Uzm_BSMYLE-CW3E_day_init\"+initmonstr+\".nc\")\n",
    "cluster.close()"
   ]
  },
  {
   "cell_type": "code",
   "execution_count": 20,
   "id": "de8cf026-fd5e-4178-890f-ff093849dc26",
   "metadata": {},
   "outputs": [],
   "source": [
    "cluster.close()"
   ]
  },
  {
   "cell_type": "code",
   "execution_count": null,
   "id": "59eab3c4-c748-4186-873b-360d64c3d8d9",
   "metadata": {},
   "outputs": [],
   "source": []
  }
 ],
 "metadata": {
  "kernelspec": {
   "display_name": "Python [conda env:miniconda3-islaenv]",
   "language": "python",
   "name": "conda-env-miniconda3-islaenv-py"
  },
  "language_info": {
   "codemirror_mode": {
    "name": "ipython",
    "version": 3
   },
   "file_extension": ".py",
   "mimetype": "text/x-python",
   "name": "python",
   "nbconvert_exporter": "python",
   "pygments_lexer": "ipython3",
   "version": "3.7.13"
  }
 },
 "nbformat": 4,
 "nbformat_minor": 5
}
