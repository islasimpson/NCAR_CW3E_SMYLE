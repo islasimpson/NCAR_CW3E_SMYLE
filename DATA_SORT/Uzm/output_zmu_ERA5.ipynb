{
 "cells": [
  {
   "cell_type": "code",
   "execution_count": 1,
   "id": "eaac6b0a-8795-4533-a6dc-0e1ace078ec2",
   "metadata": {},
   "outputs": [],
   "source": [
    "import xarray as xr\n",
    "import numpy as np\n",
    "import matplotlib.pyplot as plt\n",
    "from math import nan\n",
    "import dask"
   ]
  },
  {
   "cell_type": "markdown",
   "id": "a4bf5374-edb5-45c6-801f-f0482b0d17ff",
   "metadata": {},
   "source": [
    "### Read in the coordinats from the SMYLE simulations to set up the reanalysis in the same way"
   ]
  },
  {
   "cell_type": "code",
   "execution_count": 11,
   "id": "a452a735-0d32-4d17-ad66-bd3d118bf60e",
   "metadata": {},
   "outputs": [],
   "source": [
    "smyle = xr.open_dataset(\"/glade/campaign/cgd/cas/islas/python/smyle_cw3e/DATA_SORT/outputzm/Uzm_BSMYLE-CW3E_day_init02.nc\")\n",
    "smyle = smyle.coords"
   ]
  },
  {
   "cell_type": "code",
   "execution_count": 12,
   "id": "3653ebc1-0751-4180-aee5-2e07e826878d",
   "metadata": {},
   "outputs": [],
   "source": [
    "ystart=smyle['init_year'].isel(init_year=0).values\n",
    "yend=smyle['init_year'].isel(init_year=smyle['init_year'].size-1).values\n",
    "nyears=yend-ystart+1\n",
    "initmon=smyle['time'].isel(time=0).time.dt.month.values"
   ]
  },
  {
   "cell_type": "markdown",
   "id": "951c64ce-20ad-4ab7-8064-e1d18e720328",
   "metadata": {},
   "source": [
    "### Set up the dask cluster"
   ]
  },
  {
   "cell_type": "code",
   "execution_count": 5,
   "id": "8f026fa7-bf1a-4112-aada-c48088d9214d",
   "metadata": {},
   "outputs": [],
   "source": [
    "from dask_jobqueue import PBSCluster\n",
    "from dask.distributed import Client\n",
    "\n",
    "cluster = PBSCluster(\n",
    "    cores = 1,\n",
    "    memory = '10GB',\n",
    "    processes = 1,\n",
    "    queue = 'casper',\n",
    "    local_directory='$TMPDIR',\n",
    "    resource_spec='select=1:ncpus=1:mem=10GB',\n",
    "    project='P04010022',\n",
    "    walltime='03:00:00',\n",
    "    interface='ib0')\n",
    "\n",
    "# scale up\n",
    "cluster.scale(20)\n",
    "\n",
    "# change your urls to the dask dashboard so that you can see it\n",
    "dask.config.set({'distributed.dashboard.link':'https://jupyterhub.hpc.ucar.edu/stable/user/{USER}/proxy/{port}/status'})\n",
    "\n",
    "# Setup your client\n",
    "client = Client(cluster)"
   ]
  },
  {
   "cell_type": "code",
   "execution_count": 6,
   "id": "a5b30ddf-0f86-40af-afe0-df4a787ff2e9",
   "metadata": {},
   "outputs": [
    {
     "data": {
      "text/html": [
       "<div class=\"jp-RenderedHTMLCommon jp-RenderedHTML jp-mod-trusted jp-OutputArea-output\">\n",
       "    <div style=\"width: 24px; height: 24px; background-color: #e1e1e1; border: 3px solid #9D9D9D; border-radius: 5px; position: absolute;\">\n",
       "    </div>\n",
       "    <div style=\"margin-left: 48px;\">\n",
       "        <h3 style=\"margin-bottom: 0px; margin-top: 0px;\">PBSCluster</h3>\n",
       "        <p style=\"color: #9D9D9D; margin-bottom: 0px;\">b3a9485c</p>\n",
       "        <table style=\"width: 100%; text-align: left;\">\n",
       "            <tr>\n",
       "                <td style=\"text-align: left;\">\n",
       "                    <strong>Dashboard:</strong> <a href=\"https://jupyterhub.hpc.ucar.edu/stable/user/islas/proxy/8787/status\" target=\"_blank\">https://jupyterhub.hpc.ucar.edu/stable/user/islas/proxy/8787/status</a>\n",
       "                </td>\n",
       "                <td style=\"text-align: left;\">\n",
       "                    <strong>Workers:</strong> 0\n",
       "                </td>\n",
       "            </tr>\n",
       "            <tr>\n",
       "                <td style=\"text-align: left;\">\n",
       "                    <strong>Total threads:</strong> 0\n",
       "                </td>\n",
       "                <td style=\"text-align: left;\">\n",
       "                    <strong>Total memory:</strong> 0 B\n",
       "                </td>\n",
       "            </tr>\n",
       "            \n",
       "        </table>\n",
       "\n",
       "        <details>\n",
       "            <summary style=\"margin-bottom: 20px;\">\n",
       "                <h3 style=\"display: inline;\">Scheduler Info</h3>\n",
       "            </summary>\n",
       "\n",
       "            <div style=\"\">\n",
       "    <div>\n",
       "        <div style=\"width: 24px; height: 24px; background-color: #FFF7E5; border: 3px solid #FF6132; border-radius: 5px; position: absolute;\"> </div>\n",
       "        <div style=\"margin-left: 48px;\">\n",
       "            <h3 style=\"margin-bottom: 0px;\">Scheduler</h3>\n",
       "            <p style=\"color: #9D9D9D; margin-bottom: 0px;\">Scheduler-3c919a5a-2c34-400d-a158-95fc77efc361</p>\n",
       "            <table style=\"width: 100%; text-align: left;\">\n",
       "                <tr>\n",
       "                    <td style=\"text-align: left;\">\n",
       "                        <strong>Comm:</strong> tcp://10.12.206.60:33959\n",
       "                    </td>\n",
       "                    <td style=\"text-align: left;\">\n",
       "                        <strong>Workers:</strong> 0\n",
       "                    </td>\n",
       "                </tr>\n",
       "                <tr>\n",
       "                    <td style=\"text-align: left;\">\n",
       "                        <strong>Dashboard:</strong> <a href=\"https://jupyterhub.hpc.ucar.edu/stable/user/islas/proxy/8787/status\" target=\"_blank\">https://jupyterhub.hpc.ucar.edu/stable/user/islas/proxy/8787/status</a>\n",
       "                    </td>\n",
       "                    <td style=\"text-align: left;\">\n",
       "                        <strong>Total threads:</strong> 0\n",
       "                    </td>\n",
       "                </tr>\n",
       "                <tr>\n",
       "                    <td style=\"text-align: left;\">\n",
       "                        <strong>Started:</strong> Just now\n",
       "                    </td>\n",
       "                    <td style=\"text-align: left;\">\n",
       "                        <strong>Total memory:</strong> 0 B\n",
       "                    </td>\n",
       "                </tr>\n",
       "            </table>\n",
       "        </div>\n",
       "    </div>\n",
       "\n",
       "    <details style=\"margin-left: 48px;\">\n",
       "        <summary style=\"margin-bottom: 20px;\">\n",
       "            <h3 style=\"display: inline;\">Workers</h3>\n",
       "        </summary>\n",
       "\n",
       "        \n",
       "\n",
       "    </details>\n",
       "</div>\n",
       "\n",
       "        </details>\n",
       "    </div>\n",
       "</div>"
      ],
      "text/plain": [
       "PBSCluster(b3a9485c, 'tcp://10.12.206.60:33959', workers=0, threads=0, memory=0 B)"
      ]
     },
     "metadata": {},
     "output_type": "display_data"
    }
   ],
   "source": [
    "cluster"
   ]
  },
  {
   "cell_type": "code",
   "execution_count": 7,
   "id": "86b2043e-cd64-4f8d-82a5-8cbeab7f51d5",
   "metadata": {},
   "outputs": [],
   "source": [
    "era5 = xr.open_mfdataset(\"/glade/campaign/cgd/cas/islas/python/smyle_cw3e/DATA_SORT/obs/ERA5/fluxes/*.nc\")"
   ]
  },
  {
   "cell_type": "code",
   "execution_count": 8,
   "id": "8e309baa-0482-40e4-997d-5c1c5210f851",
   "metadata": {},
   "outputs": [],
   "source": [
    "era5 = era5.drop_vars(['S','col','row'])"
   ]
  },
  {
   "cell_type": "markdown",
   "id": "18d49029-8f46-4f4d-bb24-da9f98513d63",
   "metadata": {},
   "source": [
    "### Accumulate in the form (init_year, day , level, lat)"
   ]
  },
  {
   "cell_type": "code",
   "execution_count": 14,
   "id": "407d99e1-af80-4331-94a5-2d88eba67035",
   "metadata": {},
   "outputs": [
    {
     "name": "stdout",
     "output_type": "stream",
     "text": [
      "1970\n",
      "1971\n",
      "1972\n",
      "1973\n",
      "1974\n",
      "1975\n",
      "1976\n",
      "1977\n",
      "1978\n",
      "1979\n",
      "1980\n",
      "1981\n",
      "1982\n",
      "1983\n",
      "1984\n",
      "1985\n",
      "1986\n",
      "1987\n",
      "1988\n",
      "1989\n",
      "1990\n",
      "1991\n",
      "1992\n",
      "1993\n",
      "1994\n",
      "1995\n",
      "1996\n",
      "1997\n",
      "1998\n",
      "1999\n",
      "2000\n",
      "2001\n",
      "2002\n",
      "2003\n",
      "2004\n",
      "2005\n",
      "2006\n",
      "2007\n",
      "2008\n",
      "2009\n",
      "2010\n",
      "2011\n",
      "2012\n",
      "2013\n",
      "2014\n",
      "2015\n",
      "2016\n",
      "2017\n",
      "2018\n",
      "2019\n",
      "2020\n"
     ]
    }
   ],
   "source": [
    "dpm = [0, 31, 28, 31, 30, 31, 30, 31, 31, 30, 31, 30, 31]\n",
    "smon = initmon\n",
    "emon = (initmon - 1)\n",
    "if (emon < 1):\n",
    "    emon = 12    \n",
    "\n",
    "sdatestr = str(smon).zfill(2)+'-01' ; edatestr = str(emon).zfill(2)+'-'+str(dpm[emon]).zfill(2)\n",
    "\n",
    "era5out=[]\n",
    "\n",
    "for iyear in np.arange(ystart,yend+1,1):\n",
    "    print(iyear)\n",
    "    eyear = iyear+1\n",
    "    if (emon == 12):\n",
    "        eyear = iyear\n",
    "\n",
    "    era5use = era5.sel(time=slice(str(iyear)+'-'+sdatestr, str(eyear)+'-'+edatestr))\n",
    "    \n",
    "    # drop the 29th Feb on leap years\n",
    "    era5use = era5use.sel(time=~((era5use.time.dt.month == 2) & (era5use.time.dt.day == 29)))\n",
    "    era5use['time'] = smyle['time'].values\n",
    "    era5out.append(era5use)\n",
    "    \n",
    "era5out = xr.concat(era5out, dim='init_year')\n",
    "era5out = era5out.assign_coords(init_year = smyle['init_year'])"
   ]
  },
  {
   "cell_type": "code",
   "execution_count": 15,
   "id": "2773cf67-f148-442c-b4f3-63b4bc78c590",
   "metadata": {},
   "outputs": [],
   "source": [
    "era5out.to_netcdf(\"/glade/campaign/cgd/cas/islas/python/smyle_cw3e/DATA_SORT/outputzm/Uzm_ERA5_day_init\"+str(initmon).zfill(2)+\".nc\")"
   ]
  },
  {
   "cell_type": "code",
   "execution_count": 16,
   "id": "b297d3ea-fbf7-4698-aac1-ac6c38088c0b",
   "metadata": {},
   "outputs": [],
   "source": [
    "cluster.close()"
   ]
  },
  {
   "cell_type": "code",
   "execution_count": null,
   "id": "c55a5bec-7388-42b2-9658-8ee5a9139adb",
   "metadata": {},
   "outputs": [],
   "source": []
  }
 ],
 "metadata": {
  "kernelspec": {
   "display_name": "Python [conda env:islaenv]",
   "language": "python",
   "name": "conda-env-islaenv-py"
  },
  "language_info": {
   "codemirror_mode": {
    "name": "ipython",
    "version": 3
   },
   "file_extension": ".py",
   "mimetype": "text/x-python",
   "name": "python",
   "nbconvert_exporter": "python",
   "pygments_lexer": "ipython3",
   "version": "3.10.13"
  }
 },
 "nbformat": 4,
 "nbformat_minor": 5
}
